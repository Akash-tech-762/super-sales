{
 "cells": [
  {
   "cell_type": "code",
   "execution_count": 2,
   "id": "ea92a2d0-08e7-45b7-9453-f26e787b3f74",
   "metadata": {},
   "outputs": [],
   "source": [
    "import pandas as pd\n",
    "import matplotlib.pyplot as plt\n",
    "import seaborn as sns\n",
    "import numpy as np\n",
    "import mysql.connector\n",
    "\n",
    "\n",
    "db = mysql.connector.connect(\n",
    "    host=\"localhost\",\n",
    "    user=\"root\",             # fixed from 'username' to 'user'\n",
    "    password=\"sqlqueries\",   # fix your actual password here\n",
    "    database=\"ecommerce\"\n",
    ")\n",
    "\n",
    "cur = db.cursor()"
   ]
  },
  {
   "cell_type": "markdown",
   "id": "c076b593-26d5-4137-907e-4ead6a9c0dc1",
   "metadata": {},
   "source": [
    "#List all unique cities where customers are located"
   ]
  },
  {
   "cell_type": "code",
   "execution_count": 3,
   "id": "2fdaf833-2cce-4883-9725-2d56bd387af6",
   "metadata": {},
   "outputs": [
    {
     "data": {
      "text/html": [
       "<div>\n",
       "<style scoped>\n",
       "    .dataframe tbody tr th:only-of-type {\n",
       "        vertical-align: middle;\n",
       "    }\n",
       "\n",
       "    .dataframe tbody tr th {\n",
       "        vertical-align: top;\n",
       "    }\n",
       "\n",
       "    .dataframe thead th {\n",
       "        text-align: right;\n",
       "    }\n",
       "</style>\n",
       "<table border=\"1\" class=\"dataframe\">\n",
       "  <thead>\n",
       "    <tr style=\"text-align: right;\">\n",
       "      <th></th>\n",
       "      <th>0</th>\n",
       "    </tr>\n",
       "  </thead>\n",
       "  <tbody>\n",
       "    <tr>\n",
       "      <th>0</th>\n",
       "      <td>franca</td>\n",
       "    </tr>\n",
       "    <tr>\n",
       "      <th>1</th>\n",
       "      <td>sao bernardo do campo</td>\n",
       "    </tr>\n",
       "    <tr>\n",
       "      <th>2</th>\n",
       "      <td>sao paulo</td>\n",
       "    </tr>\n",
       "    <tr>\n",
       "      <th>3</th>\n",
       "      <td>mogi das cruzes</td>\n",
       "    </tr>\n",
       "    <tr>\n",
       "      <th>4</th>\n",
       "      <td>campinas</td>\n",
       "    </tr>\n",
       "    <tr>\n",
       "      <th>5</th>\n",
       "      <td>jaragua do sul</td>\n",
       "    </tr>\n",
       "    <tr>\n",
       "      <th>6</th>\n",
       "      <td>timoteo</td>\n",
       "    </tr>\n",
       "    <tr>\n",
       "      <th>7</th>\n",
       "      <td>curitiba</td>\n",
       "    </tr>\n",
       "    <tr>\n",
       "      <th>8</th>\n",
       "      <td>belo horizonte</td>\n",
       "    </tr>\n",
       "    <tr>\n",
       "      <th>9</th>\n",
       "      <td>montes claros</td>\n",
       "    </tr>\n",
       "  </tbody>\n",
       "</table>\n",
       "</div>"
      ],
      "text/plain": [
       "                       0\n",
       "0                 franca\n",
       "1  sao bernardo do campo\n",
       "2              sao paulo\n",
       "3        mogi das cruzes\n",
       "4               campinas\n",
       "5         jaragua do sul\n",
       "6                timoteo\n",
       "7               curitiba\n",
       "8         belo horizonte\n",
       "9          montes claros"
      ]
     },
     "execution_count": 3,
     "metadata": {},
     "output_type": "execute_result"
    }
   ],
   "source": [
    "query = \"\"\"SELECT DISTINCT customer_city FROM customers\"\"\"\n",
    "cur.execute(query)\n",
    "data = cur.fetchall()\n",
    "df=pd.DataFrame(data)\n",
    "df.head(10)\n"
   ]
  },
  {
   "cell_type": "markdown",
   "id": "7588d420-cc86-4d27-a904-5a5e688529d8",
   "metadata": {},
   "source": [
    "#Count the number of orders placed in 2017"
   ]
  },
  {
   "cell_type": "code",
   "execution_count": 4,
   "id": "7d1ac1f7-124e-4f9b-a84c-92dbbc3fa9c8",
   "metadata": {},
   "outputs": [
    {
     "data": {
      "text/plain": [
       "('total order placed in 2017 are', 45101)"
      ]
     },
     "execution_count": 4,
     "metadata": {},
     "output_type": "execute_result"
    }
   ],
   "source": [
    "query = \"\"\"select count(order_id) from orders where year(order_purchase_timestamp)=2017\"\"\"\n",
    "cur.execute(query)\n",
    "data = cur.fetchall()\n",
    "\"total order placed in 2017 are\" ,data[0][0]"
   ]
  },
  {
   "cell_type": "code",
   "execution_count": null,
   "id": "588ab04a-41ce-41ff-9541-e4ae842b906f",
   "metadata": {},
   "outputs": [],
   "source": [
    "# Find the total sales per category."
   ]
  },
  {
   "cell_type": "code",
   "execution_count": 5,
   "id": "c47ee333-8869-412c-b188-f2a066f904c8",
   "metadata": {},
   "outputs": [
    {
     "data": {
      "text/html": [
       "<div>\n",
       "<style scoped>\n",
       "    .dataframe tbody tr th:only-of-type {\n",
       "        vertical-align: middle;\n",
       "    }\n",
       "\n",
       "    .dataframe tbody tr th {\n",
       "        vertical-align: top;\n",
       "    }\n",
       "\n",
       "    .dataframe thead th {\n",
       "        text-align: right;\n",
       "    }\n",
       "</style>\n",
       "<table border=\"1\" class=\"dataframe\">\n",
       "  <thead>\n",
       "    <tr style=\"text-align: right;\">\n",
       "      <th></th>\n",
       "      <th>category</th>\n",
       "      <th>sales</th>\n",
       "    </tr>\n",
       "  </thead>\n",
       "  <tbody>\n",
       "    <tr>\n",
       "      <th>0</th>\n",
       "      <td>perfumery</td>\n",
       "      <td>506738.66</td>\n",
       "    </tr>\n",
       "    <tr>\n",
       "      <th>1</th>\n",
       "      <td>Furniture Decoration</td>\n",
       "      <td>1430176.39</td>\n",
       "    </tr>\n",
       "    <tr>\n",
       "      <th>2</th>\n",
       "      <td>telephony</td>\n",
       "      <td>486882.05</td>\n",
       "    </tr>\n",
       "    <tr>\n",
       "      <th>3</th>\n",
       "      <td>bed table bath</td>\n",
       "      <td>1712553.67</td>\n",
       "    </tr>\n",
       "    <tr>\n",
       "      <th>4</th>\n",
       "      <td>automotive</td>\n",
       "      <td>852294.33</td>\n",
       "    </tr>\n",
       "    <tr>\n",
       "      <th>5</th>\n",
       "      <td>computer accessories</td>\n",
       "      <td>1585330.45</td>\n",
       "    </tr>\n",
       "    <tr>\n",
       "      <th>6</th>\n",
       "      <td>housewares</td>\n",
       "      <td>1094758.13</td>\n",
       "    </tr>\n",
       "    <tr>\n",
       "      <th>7</th>\n",
       "      <td>babies</td>\n",
       "      <td>539845.66</td>\n",
       "    </tr>\n",
       "    <tr>\n",
       "      <th>8</th>\n",
       "      <td>toys</td>\n",
       "      <td>619037.69</td>\n",
       "    </tr>\n",
       "    <tr>\n",
       "      <th>9</th>\n",
       "      <td>Furniture office</td>\n",
       "      <td>646826.49</td>\n",
       "    </tr>\n",
       "  </tbody>\n",
       "</table>\n",
       "</div>"
      ],
      "text/plain": [
       "               category       sales\n",
       "0             perfumery   506738.66\n",
       "1  Furniture Decoration  1430176.39\n",
       "2             telephony   486882.05\n",
       "3        bed table bath  1712553.67\n",
       "4            automotive   852294.33\n",
       "5  computer accessories  1585330.45\n",
       "6            housewares  1094758.13\n",
       "7                babies   539845.66\n",
       "8                  toys   619037.69\n",
       "9      Furniture office   646826.49"
      ]
     },
     "execution_count": 5,
     "metadata": {},
     "output_type": "execute_result"
    }
   ],
   "source": [
    "query = \"\"\"\n",
    "SELECT \n",
    "    products.product_category AS category,\n",
    "    round(SUM(payments.payment_value),2) AS sales\n",
    "FROM \n",
    "    products\n",
    "JOIN \n",
    "    order_items ON products.product_id = order_items.product_id\n",
    "JOIN \n",
    "    payments ON payments.order_id = order_items.order_id\n",
    "GROUP BY \n",
    "    category;\n",
    "\"\"\"\n",
    "cur.execute(query)\n",
    "data = cur.fetchall()\n",
    "df=pd.DataFrame(data,columns=[\"category\",\"sales\"])\n",
    "df.head(10)"
   ]
  },
  {
   "cell_type": "code",
   "execution_count": null,
   "id": "ce86b0a7-4780-486d-9b44-d39435f9590b",
   "metadata": {},
   "outputs": [],
   "source": [
    "# Calculate the percentage of orders that were paid in installments."
   ]
  },
  {
   "cell_type": "code",
   "execution_count": 6,
   "id": "92bfcaa0-29a3-4f3b-9504-825bf24467d2",
   "metadata": {},
   "outputs": [
    {
     "data": {
      "text/plain": [
       "('the prcentage of order that were  paid installment', Decimal('99.9981'))"
      ]
     },
     "execution_count": 6,
     "metadata": {},
     "output_type": "execute_result"
    }
   ],
   "source": [
    "query = \"\"\"select sum(case when payment_installments >=1 then 1 else 0 end)/count(*)*100 from payments\"\"\"\n",
    "cur.execute(query)\n",
    "data = cur.fetchall()\n",
    "\"the prcentage of order that were  paid installment\",data[0][0]"
   ]
  },
  {
   "cell_type": "code",
   "execution_count": null,
   "id": "d711c8c7-a6c6-4fcb-abca-39f59a5f6e2f",
   "metadata": {},
   "outputs": [],
   "source": [
    "#Count the number of customers from each state. \n"
   ]
  },
  {
   "cell_type": "code",
   "execution_count": 7,
   "id": "f7723f82-63b0-4fe2-bfd5-f9a9a70bc3c6",
   "metadata": {},
   "outputs": [
    {
     "data": {
      "image/png": "[encoded data removed]",
      "text/plain": [
       "<Figure size 800x300 with 1 Axes>"
      ]
     },
     "metadata": {},
     "output_type": "display_data"
    }
   ],
   "source": [
    "query = \"\"\"\n",
    "SELECT customer_state, COUNT(customer_id)\n",
    "FROM customers\n",
    "GROUP BY customer_state\n",
    "\"\"\"\n",
    "\n",
    "cur.execute(query)\n",
    "data = cur.fetchall()\n",
    "\n",
    "# ✅ Assign correct column names here\n",
    "df = pd.DataFrame(data, columns=[\"state\", \"customer_counts\"])\n",
    "\n",
    "# ✅ Now this will work\n",
    "df = df.sort_values(by=\"customer_counts\", ascending=False)\n",
    "\n",
    "plt.figure(figsize=(8, 3))\n",
    "plt.bar(x=df[\"state\"], height=df[\"customer_counts\"])\n",
    "plt.xticks(rotation=90)\n",
    "plt.title(\"The number of customers from each state\")\n",
    "plt.xlabel(\"State\")\n",
    "plt.ylabel(\"Customer Count\")\n",
    "plt.tight_layout()\n",
    "plt.show()\n"
   ]
  },
  {
   "cell_type": "code",
   "execution_count": null,
   "id": "e5206bc1-5318-441b-a9de-97b92ad27978",
   "metadata": {},
   "outputs": [],
   "source": [
    "# Calculate the number of orders per month in 2018."
   ]
  },
  {
   "cell_type": "code",
   "execution_count": 8,
   "id": "7952ac04-6014-4888-8dc9-210f5cc357af",
   "metadata": {},
   "outputs": [
    {
     "data": {
      "image/png": "[encoded data removed]",
      "text/plain": [
       "<Figure size 800x400 with 1 Axes>"
      ]
     },
     "metadata": {},
     "output_type": "display_data"
    }
   ],
   "source": [
    "query = \"\"\"\n",
    "select monthname(order_purchase_timestamp) as months,count(order_id) as order_count from orders where year(order_purchase_timestamp) = 2018\n",
    "group by months\n",
    "\"\"\"\n",
    "cur.execute(query)\n",
    "data = cur.fetchall()\n",
    "df = pd.DataFrame(data, columns=[\"month_Name\", \"order_per_month\"])\n",
    "month_order = [\n",
    "    'January', 'February', 'March', 'April', 'May', 'June',\n",
    "    'July', 'August', 'September', 'October', 'November', 'December'\n",
    "]\n",
    "plt.figure(figsize=(8,4))\n",
    "ax=sns.barplot(x=df[\"month_Name\"],y=df[\"order_per_month\"],data=df,order=month_order,hue=\"month_Name\", palette=\"viridis\",legend=False )\n",
    "plt.xticks(rotation=45)\n",
    "ax.bar_label(ax.containers[0])\n",
    "plt.xlabel(\"Month_Name\")\n",
    "plt.ylabel(\"order_per_month\")\n",
    "plt.title(\"The number of orders per month in 2018\")\n",
    "plt.show()"
   ]
  },
  {
   "cell_type": "code",
   "execution_count": null,
   "id": "ce46c55f-1512-45e8-8b98-938565313ddb",
   "metadata": {},
   "outputs": [],
   "source": [
    "#Find the average number of products per order, grouped by customer city."
   ]
  },
  {
   "cell_type": "code",
   "execution_count": 9,
   "id": "367e14a2-ce5c-408c-9000-f3dc7bb80137",
   "metadata": {},
   "outputs": [
    {
     "data": {
      "text/html": [
       "<div>\n",
       "<style scoped>\n",
       "    .dataframe tbody tr th:only-of-type {\n",
       "        vertical-align: middle;\n",
       "    }\n",
       "\n",
       "    .dataframe tbody tr th {\n",
       "        vertical-align: top;\n",
       "    }\n",
       "\n",
       "    .dataframe thead th {\n",
       "        text-align: right;\n",
       "    }\n",
       "</style>\n",
       "<table border=\"1\" class=\"dataframe\">\n",
       "  <thead>\n",
       "    <tr style=\"text-align: right;\">\n",
       "      <th></th>\n",
       "      <th>customer city</th>\n",
       "      <th>Avg. products</th>\n",
       "    </tr>\n",
       "  </thead>\n",
       "  <tbody>\n",
       "    <tr>\n",
       "      <th>0</th>\n",
       "      <td>abadia dos dourados</td>\n",
       "      <td>3</td>\n",
       "    </tr>\n",
       "    <tr>\n",
       "      <th>1</th>\n",
       "      <td>abadiania</td>\n",
       "      <td>1</td>\n",
       "    </tr>\n",
       "    <tr>\n",
       "      <th>2</th>\n",
       "      <td>abaete</td>\n",
       "      <td>12</td>\n",
       "    </tr>\n",
       "    <tr>\n",
       "      <th>3</th>\n",
       "      <td>abaetetuba</td>\n",
       "      <td>11</td>\n",
       "    </tr>\n",
       "    <tr>\n",
       "      <th>4</th>\n",
       "      <td>abaiara</td>\n",
       "      <td>2</td>\n",
       "    </tr>\n",
       "    <tr>\n",
       "      <th>5</th>\n",
       "      <td>abaira</td>\n",
       "      <td>2</td>\n",
       "    </tr>\n",
       "    <tr>\n",
       "      <th>6</th>\n",
       "      <td>abare</td>\n",
       "      <td>2</td>\n",
       "    </tr>\n",
       "    <tr>\n",
       "      <th>7</th>\n",
       "      <td>abatia</td>\n",
       "      <td>3</td>\n",
       "    </tr>\n",
       "    <tr>\n",
       "      <th>8</th>\n",
       "      <td>abdon batista</td>\n",
       "      <td>1</td>\n",
       "    </tr>\n",
       "    <tr>\n",
       "      <th>9</th>\n",
       "      <td>abelardo luz</td>\n",
       "      <td>6</td>\n",
       "    </tr>\n",
       "  </tbody>\n",
       "</table>\n",
       "</div>"
      ],
      "text/plain": [
       "         customer city  Avg. products\n",
       "0  abadia dos dourados              3\n",
       "1            abadiania              1\n",
       "2               abaete             12\n",
       "3           abaetetuba             11\n",
       "4              abaiara              2\n",
       "5               abaira              2\n",
       "6                abare              2\n",
       "7               abatia              3\n",
       "8        abdon batista              1\n",
       "9         abelardo luz              6"
      ]
     },
     "execution_count": 9,
     "metadata": {},
     "output_type": "execute_result"
    }
   ],
   "source": [
    "query = \"\"\"\n",
    "WITH count_per_order AS (\n",
    "    SELECT \n",
    "        orders.order_id,\n",
    "        orders.customer_id,\n",
    "        COUNT(order_items.order_id) AS oc\n",
    "    FROM orders\n",
    "    JOIN order_items ON orders.order_id = order_items.order_id\n",
    "    GROUP BY orders.order_id, orders.customer_id\n",
    ")\n",
    "SELECT \n",
    "    customers.customer_city,\n",
    "    COUNT(DISTINCT count_per_order.customer_id) AS unique_customers\n",
    "FROM count_per_order\n",
    "JOIN customers ON count_per_order.customer_id = customers.customer_id\n",
    "GROUP BY customers.customer_city;\n",
    "\"\"\"\n",
    "\n",
    "cur.execute(query)\n",
    "data = cur.fetchall()\n",
    "df=pd.DataFrame(data,columns=[\"customer city\",\"Avg. products\"])\n",
    "df.head(10)"
   ]
  },
  {
   "cell_type": "code",
   "execution_count": null,
   "id": "8502f48b-0603-4edd-8f6f-d5a9ff69b92f",
   "metadata": {},
   "outputs": [],
   "source": [
    "#Calculate the percentage of total revenue contributed by each product category."
   ]
  },
  {
   "cell_type": "code",
   "execution_count": 10,
   "id": "3ed4d536-e176-4735-9f32-43a72170702a",
   "metadata": {},
   "outputs": [
    {
     "data": {
      "text/html": [
       "<div>\n",
       "<style scoped>\n",
       "    .dataframe tbody tr th:only-of-type {\n",
       "        vertical-align: middle;\n",
       "    }\n",
       "\n",
       "    .dataframe tbody tr th {\n",
       "        vertical-align: top;\n",
       "    }\n",
       "\n",
       "    .dataframe thead th {\n",
       "        text-align: right;\n",
       "    }\n",
       "</style>\n",
       "<table border=\"1\" class=\"dataframe\">\n",
       "  <thead>\n",
       "    <tr style=\"text-align: right;\">\n",
       "      <th></th>\n",
       "      <th>category</th>\n",
       "      <th>sales_percentage</th>\n",
       "    </tr>\n",
       "  </thead>\n",
       "  <tbody>\n",
       "    <tr>\n",
       "      <th>0</th>\n",
       "      <td>bed table bath</td>\n",
       "      <td>10.70</td>\n",
       "    </tr>\n",
       "    <tr>\n",
       "      <th>1</th>\n",
       "      <td>HEALTH BEAUTY</td>\n",
       "      <td>10.35</td>\n",
       "    </tr>\n",
       "    <tr>\n",
       "      <th>2</th>\n",
       "      <td>computer accessories</td>\n",
       "      <td>9.90</td>\n",
       "    </tr>\n",
       "    <tr>\n",
       "      <th>3</th>\n",
       "      <td>Furniture Decoration</td>\n",
       "      <td>8.93</td>\n",
       "    </tr>\n",
       "    <tr>\n",
       "      <th>4</th>\n",
       "      <td>Watches present</td>\n",
       "      <td>8.93</td>\n",
       "    </tr>\n",
       "    <tr>\n",
       "      <th>5</th>\n",
       "      <td>sport leisure</td>\n",
       "      <td>8.70</td>\n",
       "    </tr>\n",
       "    <tr>\n",
       "      <th>6</th>\n",
       "      <td>housewares</td>\n",
       "      <td>6.84</td>\n",
       "    </tr>\n",
       "    <tr>\n",
       "      <th>7</th>\n",
       "      <td>automotive</td>\n",
       "      <td>5.32</td>\n",
       "    </tr>\n",
       "    <tr>\n",
       "      <th>8</th>\n",
       "      <td>Garden tools</td>\n",
       "      <td>5.24</td>\n",
       "    </tr>\n",
       "    <tr>\n",
       "      <th>9</th>\n",
       "      <td>Cool Stuff</td>\n",
       "      <td>4.87</td>\n",
       "    </tr>\n",
       "  </tbody>\n",
       "</table>\n",
       "</div>"
      ],
      "text/plain": [
       "               category  sales_percentage\n",
       "0        bed table bath             10.70\n",
       "1         HEALTH BEAUTY             10.35\n",
       "2  computer accessories              9.90\n",
       "3  Furniture Decoration              8.93\n",
       "4       Watches present              8.93\n",
       "5         sport leisure              8.70\n",
       "6            housewares              6.84\n",
       "7            automotive              5.32\n",
       "8          Garden tools              5.24\n",
       "9            Cool Stuff              4.87"
      ]
     },
     "execution_count": 10,
     "metadata": {},
     "output_type": "execute_result"
    }
   ],
   "source": [
    "query = \"\"\"\n",
    "SELECT \n",
    "    products.product_category AS category,\n",
    "    round(SUM(payments.payment_value)/(SELECT sum(payment_value) FROM payments)*100,2) AS sales\n",
    "FROM \n",
    "    products\n",
    "JOIN \n",
    "    order_items ON products.product_id = order_items.product_id\n",
    "JOIN \n",
    "    payments ON payments.order_id = order_items.order_id\n",
    "GROUP BY \n",
    "    category\n",
    "order by sales desc;\n",
    "   \n",
    "\"\"\"\n",
    "cur.execute(query)\n",
    "data = cur.fetchall()\n",
    "df=pd.DataFrame(data,columns=[\"category\",\"sales_percentage\"])\n",
    "df.head(10)"
   ]
  },
  {
   "cell_type": "code",
   "execution_count": null,
   "id": "e23d8d36-bc86-424f-bb65-dde0fbd0894a",
   "metadata": {},
   "outputs": [],
   "source": [
    "# Identify the correlation between product price and the number of times a product has been purchased."
   ]
  },
  {
   "cell_type": "code",
   "execution_count": 81,
   "id": "414315a4-e946-4bcb-a9bc-5d84f0942c48",
   "metadata": {},
   "outputs": [
    {
     "name": "stdout",
     "output_type": "stream",
     "text": [
      "The correlation between product price and the number of times a product has been purchased -0.10631514167157562\n"
     ]
    }
   ],
   "source": [
    "query = \"\"\"\n",
    "select products.product_category,count(order_items.product_id),round(avg(order_items.price),2)  from products join order_items\n",
    "on products.product_id = order_items.product_id\n",
    "group by products.product_category; \n",
    "\n",
    "\"\"\"\n",
    "cur.execute(query)\n",
    "data = cur.fetchall()\n",
    "df=pd.DataFrame(data,columns=[\"product category\",\"order_count\",\"price\"])\n",
    "import numpy as np  # Make sure this is imported\n",
    "\n",
    "arr1 = df[\"order_count\"]\n",
    "arr2 = df[\"price\"]\n",
    "\n",
    "a = np.corrcoef([arr1, arr2])\n",
    "print(\"The correlation between product price and the number of times a product has been purchased\",a[0][-1])\n"
   ]
  },
  {
   "cell_type": "code",
   "execution_count": null,
   "id": "40b5250c-f6d7-4d09-aa93-ca2a3a953fbe",
   "metadata": {},
   "outputs": [],
   "source": [
    "# Calculate the total revenue generated by each seller, and rank them by revenue."
   ]
  },
  {
   "cell_type": "code",
   "execution_count": 11,
   "id": "a4bbcbc2-8bfa-4291-bf63-a8531d527a95",
   "metadata": {},
   "outputs": [
    {
     "data": {
      "image/png": "[encoded data removed]",
      "text/plain": [
       "<Figure size 800x300 with 1 Axes>"
      ]
     },
     "metadata": {},
     "output_type": "display_data"
    }
   ],
   "source": [
    "query = \"\"\"select * , dense_rank() over(order by revenue desc) as rn from \n",
    "(select order_items.seller_id,sum(payments.payment_value) as revenue from order_items join payments\n",
    "on order_items.order_id = payments.order_id\n",
    "group by order_items.seller_id) as a\n",
    "\"\"\"\n",
    "cur.execute(query)\n",
    "data = cur.fetchall()\n",
    "df=pd.DataFrame(data,columns=[\"seller_id\",\"revenue\",\"rank\"])\n",
    "df=df.head(5)\n",
    "plt.figure(figsize=(8,3))\n",
    "sns.barplot(x=\"seller_id\",y=\"revenue\",data=df)\n",
    "plt.xticks(rotation=90)\n",
    "plt.show()"
   ]
  },
  {
   "cell_type": "code",
   "execution_count": null,
   "id": "0b75562d-c98b-4270-8674-5b40b85c5327",
   "metadata": {},
   "outputs": [],
   "source": [
    "#. Calculate the moving average of order values for each customer over their order history."
   ]
  },
  {
   "cell_type": "code",
   "execution_count": 14,
   "id": "893821f3-1fae-4ae8-82cf-96aad26aecab",
   "metadata": {},
   "outputs": [
    {
     "data": {
      "text/html": [
       "<div>\n",
       "<style scoped>\n",
       "    .dataframe tbody tr th:only-of-type {\n",
       "        vertical-align: middle;\n",
       "    }\n",
       "\n",
       "    .dataframe tbody tr th {\n",
       "        vertical-align: top;\n",
       "    }\n",
       "\n",
       "    .dataframe thead th {\n",
       "        text-align: right;\n",
       "    }\n",
       "</style>\n",
       "<table border=\"1\" class=\"dataframe\">\n",
       "  <thead>\n",
       "    <tr style=\"text-align: right;\">\n",
       "      <th></th>\n",
       "      <th>customer_id</th>\n",
       "      <th>order_purchase_timestamp</th>\n",
       "      <th>payment</th>\n",
       "      <th>mov_avg</th>\n",
       "    </tr>\n",
       "  </thead>\n",
       "  <tbody>\n",
       "    <tr>\n",
       "      <th>0</th>\n",
       "      <td>00012a2ce6f8dcda20d059ce98491703</td>\n",
       "      <td>2017-11-14 16:08:26</td>\n",
       "      <td>114.74</td>\n",
       "      <td>114.739998</td>\n",
       "    </tr>\n",
       "    <tr>\n",
       "      <th>1</th>\n",
       "      <td>000161a058600d5901f007fab4c27140</td>\n",
       "      <td>2017-07-16 09:40:32</td>\n",
       "      <td>67.41</td>\n",
       "      <td>67.410004</td>\n",
       "    </tr>\n",
       "    <tr>\n",
       "      <th>2</th>\n",
       "      <td>0001fd6190edaaf884bcaf3d49edf079</td>\n",
       "      <td>2017-02-28 11:06:43</td>\n",
       "      <td>195.42</td>\n",
       "      <td>195.419998</td>\n",
       "    </tr>\n",
       "    <tr>\n",
       "      <th>3</th>\n",
       "      <td>0002414f95344307404f0ace7a26f1d5</td>\n",
       "      <td>2017-08-16 13:09:20</td>\n",
       "      <td>179.35</td>\n",
       "      <td>179.350006</td>\n",
       "    </tr>\n",
       "    <tr>\n",
       "      <th>4</th>\n",
       "      <td>000379cdec625522490c315e70c7a9fb</td>\n",
       "      <td>2018-04-02 13:42:17</td>\n",
       "      <td>107.01</td>\n",
       "      <td>107.010002</td>\n",
       "    </tr>\n",
       "  </tbody>\n",
       "</table>\n",
       "</div>"
      ],
      "text/plain": [
       "                        customer_id order_purchase_timestamp  payment  \\\n",
       "0  00012a2ce6f8dcda20d059ce98491703      2017-11-14 16:08:26   114.74   \n",
       "1  000161a058600d5901f007fab4c27140      2017-07-16 09:40:32    67.41   \n",
       "2  0001fd6190edaaf884bcaf3d49edf079      2017-02-28 11:06:43   195.42   \n",
       "3  0002414f95344307404f0ace7a26f1d5      2017-08-16 13:09:20   179.35   \n",
       "4  000379cdec625522490c315e70c7a9fb      2018-04-02 13:42:17   107.01   \n",
       "\n",
       "      mov_avg  \n",
       "0  114.739998  \n",
       "1   67.410004  \n",
       "2  195.419998  \n",
       "3  179.350006  \n",
       "4  107.010002  "
      ]
     },
     "execution_count": 14,
     "metadata": {},
     "output_type": "execute_result"
    }
   ],
   "source": [
    "query = \"\"\"select customer_id,order_purchase_timestamp,payment,avg(payment)\n",
    "over(partition by customer_id order by order_purchase_timestamp rows between 2 preceding and current row) as mov_avg\n",
    "from \n",
    "(select orders.customer_id,orders.order_purchase_timestamp,payments.payment_value as payment\n",
    "from payments join orders\n",
    "on payments.order_id=orders.order_id) as a;\n",
    "\"\"\"\n",
    "cur.execute(query)\n",
    "data = cur.fetchall()\n",
    "df=pd.DataFrame(data,columns=[\"customer_id\",\"order_purchase_timestamp\",\"payment\",\"mov_avg\"])\n",
    "df.head(5)"
   ]
  },
  {
   "cell_type": "code",
   "execution_count": null,
   "id": "e1c6f397-784a-4381-8a6a-436a4b22ec85",
   "metadata": {},
   "outputs": [],
   "source": [
    "#Calculate the cumulative sales per month for each year"
   ]
  },
  {
   "cell_type": "code",
   "execution_count": 15,
   "id": "23860751-bc1f-4f45-ba6c-62592eae0611",
   "metadata": {},
   "outputs": [
    {
     "data": {
      "text/html": [
       "<div>\n",
       "<style scoped>\n",
       "    .dataframe tbody tr th:only-of-type {\n",
       "        vertical-align: middle;\n",
       "    }\n",
       "\n",
       "    .dataframe tbody tr th {\n",
       "        vertical-align: top;\n",
       "    }\n",
       "\n",
       "    .dataframe thead th {\n",
       "        text-align: right;\n",
       "    }\n",
       "</style>\n",
       "<table border=\"1\" class=\"dataframe\">\n",
       "  <thead>\n",
       "    <tr style=\"text-align: right;\">\n",
       "      <th></th>\n",
       "      <th>years</th>\n",
       "      <th>months</th>\n",
       "      <th>payment</th>\n",
       "      <th>cumnlative_sales</th>\n",
       "    </tr>\n",
       "  </thead>\n",
       "  <tbody>\n",
       "    <tr>\n",
       "      <th>0</th>\n",
       "      <td>2016</td>\n",
       "      <td>9</td>\n",
       "      <td>252.24</td>\n",
       "      <td>252.24</td>\n",
       "    </tr>\n",
       "    <tr>\n",
       "      <th>1</th>\n",
       "      <td>2016</td>\n",
       "      <td>10</td>\n",
       "      <td>59090.48</td>\n",
       "      <td>59342.72</td>\n",
       "    </tr>\n",
       "    <tr>\n",
       "      <th>2</th>\n",
       "      <td>2016</td>\n",
       "      <td>12</td>\n",
       "      <td>19.62</td>\n",
       "      <td>59362.34</td>\n",
       "    </tr>\n",
       "    <tr>\n",
       "      <th>3</th>\n",
       "      <td>2017</td>\n",
       "      <td>1</td>\n",
       "      <td>138488.04</td>\n",
       "      <td>197850.38</td>\n",
       "    </tr>\n",
       "    <tr>\n",
       "      <th>4</th>\n",
       "      <td>2017</td>\n",
       "      <td>2</td>\n",
       "      <td>291908.01</td>\n",
       "      <td>489758.39</td>\n",
       "    </tr>\n",
       "  </tbody>\n",
       "</table>\n",
       "</div>"
      ],
      "text/plain": [
       "   years  months    payment  cumnlative_sales\n",
       "0   2016       9     252.24            252.24\n",
       "1   2016      10   59090.48          59342.72\n",
       "2   2016      12      19.62          59362.34\n",
       "3   2017       1  138488.04         197850.38\n",
       "4   2017       2  291908.01         489758.39"
      ]
     },
     "execution_count": 15,
     "metadata": {},
     "output_type": "execute_result"
    }
   ],
   "source": [
    "query = \"\"\"select years,months,payment,sum(payment)\n",
    "over(order by years,months) as cumnlative_sales from\n",
    "(select year(orders.order_purchase_timestamp) as years,\n",
    "month (orders.order_purchase_timestamp) as months,\n",
    "round(sum(payments.payment_value),2) as payment\n",
    "from orders join payments\n",
    "on orders.order_id=payments.order_id\n",
    "group by years,months order by years,months) as a;\n",
    "\"\"\"\n",
    "cur.execute(query)\n",
    "data = cur.fetchall()\n",
    "df=pd.DataFrame(data,columns=[\"years\",\"months\",\"payment\",\"cumnlative_sales\"])\n",
    "df.head(5)"
   ]
  },
  {
   "cell_type": "code",
   "execution_count": null,
   "id": "78f844ce-9ba2-43bd-9c82-38222e8250a1",
   "metadata": {},
   "outputs": [],
   "source": [
    "#Calculate the year-over-year growth rate of total sales."
   ]
  },
  {
   "cell_type": "code",
   "execution_count": 36,
   "id": "a29fb6de-bb03-4582-883c-539a6f831173",
   "metadata": {},
   "outputs": [
    {
     "data": {
      "text/html": [
       "<div>\n",
       "<style scoped>\n",
       "    .dataframe tbody tr th:only-of-type {\n",
       "        vertical-align: middle;\n",
       "    }\n",
       "\n",
       "    .dataframe tbody tr th {\n",
       "        vertical-align: top;\n",
       "    }\n",
       "\n",
       "    .dataframe thead th {\n",
       "        text-align: right;\n",
       "    }\n",
       "</style>\n",
       "<table border=\"1\" class=\"dataframe\">\n",
       "  <thead>\n",
       "    <tr style=\"text-align: right;\">\n",
       "      <th></th>\n",
       "      <th>years</th>\n",
       "      <th>yoy% growth</th>\n",
       "    </tr>\n",
       "  </thead>\n",
       "  <tbody>\n",
       "    <tr>\n",
       "      <th>0</th>\n",
       "      <td>2016</td>\n",
       "      <td>NaN</td>\n",
       "    </tr>\n",
       "    <tr>\n",
       "      <th>1</th>\n",
       "      <td>2017</td>\n",
       "      <td>12112.703761</td>\n",
       "    </tr>\n",
       "    <tr>\n",
       "      <th>2</th>\n",
       "      <td>2018</td>\n",
       "      <td>20.000924</td>\n",
       "    </tr>\n",
       "  </tbody>\n",
       "</table>\n",
       "</div>"
      ],
      "text/plain": [
       "   years   yoy% growth\n",
       "0   2016           NaN\n",
       "1   2017  12112.703761\n",
       "2   2018     20.000924"
      ]
     },
     "execution_count": 36,
     "metadata": {},
     "output_type": "execute_result"
    }
   ],
   "source": [
    "query = \"\"\"\n",
    "WITH a AS (\n",
    "    SELECT \n",
    "        YEAR(orders.order_purchase_timestamp) AS years,\n",
    "        ROUND(SUM(payments.payment_value), 2) AS payment\n",
    "    FROM orders \n",
    "    JOIN payments ON orders.order_id = payments.order_id\n",
    "    GROUP BY YEAR(orders.order_purchase_timestamp)\n",
    ")\n",
    "SELECT \n",
    "    years,\n",
    "    ((payment - LAG(payment, 1) OVER (ORDER BY years)) / LAG(payment, 1) OVER (ORDER BY years)) * 100 AS `yoy% growth`\n",
    "FROM a;\n",
    "\"\"\"\n",
    "cur.execute(query)\n",
    "data = cur.fetchall()\n",
    "df = pd.DataFrame(data, columns=[\"years\", \"yoy% growth\"])\n",
    "df"
   ]
  },
  {
   "cell_type": "code",
   "execution_count": null,
   "id": "17e194d7-ef94-4b83-be14-bb96cc058100",
   "metadata": {},
   "outputs": [],
   "source": [
    "# Identify the top 3 customers who spent the most money in each year."
   ]
  },
  {
   "cell_type": "code",
   "execution_count": 43,
   "id": "9fae4f70-1d7c-4a44-bdef-68bd28551a93",
   "metadata": {},
   "outputs": [
    {
     "data": {
      "image/png": "[encoded data removed]",
      "text/plain": [
       "<Figure size 800x400 with 1 Axes>"
      ]
     },
     "metadata": {},
     "output_type": "display_data"
    }
   ],
   "source": [
    "query = \"\"\"\n",
    "select years,customer_id,payment,d_rank\n",
    "from\n",
    "(select year(orders.order_purchase_timestamp) as years,orders.customer_id,\n",
    "round(sum(payments.payment_value),2) as payment,\n",
    "dense_rank() over(partition by year(orders.order_purchase_timestamp) order by sum(payments.payment_value) desc )d_rank\n",
    "from orders join payments\n",
    "on payments.order_id=orders.order_id\n",
    "group by year(orders.order_purchase_timestamp),orders.customer_id) as a\n",
    "where d_rank <= 3;\n",
    "\"\"\"\n",
    "cur.execute(query)\n",
    "data = cur.fetchall()\n",
    "df = pd.DataFrame(data, columns=[\"years\", \"customer_id\",\"payment\",\"d_rank\"])\n",
    "plt.figure(figsize=(8,4))\n",
    "ax=sns.barplot(x=df[\"customer_id\"],y=df[\"payment\"],data=df,hue=\"customer_id\", palette=\"viridis\",legend=False )\n",
    "plt.xticks(rotation=90)\n",
    "ax.bar_label(ax.containers[0])\n",
    "plt.xlabel(\"customer_id\")\n",
    "plt.ylabel(\"payment\")\n",
    "plt.title(\"The top 3 customers who spent the most money in each year.\")\n",
    "plt.show()\n"
   ]
  },
  {
   "cell_type": "code",
   "execution_count": null,
   "id": "8ba81b55-6437-4d21-92f0-13c285c02a51",
   "metadata": {},
   "outputs": [],
   "source": []
  }
 ],
 "metadata": {
  "kernelspec": {
   "display_name": "Python 3 (ipykernel)",
   "language": "python",
   "name": "python3"
  },
  "language_info": {
   "codemirror_mode": {
    "name": "ipython",
    "version": 3
   },
   "file_extension": ".py",
   "mimetype": "text/x-python",
   "name": "python",
   "nbconvert_exporter": "python",
   "pygments_lexer": "ipython3",
   "version": "3.12.3"
  }
 },
 "nbformat": 4,
 "nbformat_minor": 5
}
